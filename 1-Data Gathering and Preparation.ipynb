{
 "cells": [
  {
   "cell_type": "markdown",
   "id": "82b96697-1c21-4460-9354-0e099adfd628",
   "metadata": {},
   "source": [
    "# Data Gathering and "
   ]
  },
  {
   "cell_type": "markdown",
   "id": "89939530-29d8-474e-8b19-9589720931d1",
   "metadata": {
    "tags": []
   },
   "source": [
    "## Mitochondrial Genomes\n",
    "* Primates\n",
    "  * Gibbon\n",
    "    * Scientific name: Hylobatidae\n",
    "    * [GenBank: OM287160.1](https://www.ncbi.nlm.nih.gov/nuccore/OM287160.1)\n",
    "  * Gorilla\n",
    "    * Scientific name: Gorilla\n",
    "    * [NCBI Reference Sequence: NC_001645.1](https://www.ncbi.nlm.nih.gov/nuccore/NC_001645.1)\n",
    "  * Human\n",
    "    * Scientific name: Homo sapiens\n",
    "    * [GenBank: OP605624.1](https://www.ncbi.nlm.nih.gov/nuccore/OP605624.1)\n",
    "  * Pygmy chimpanzee\n",
    "    * Scientific name: Pan paniscus\n",
    "    * [GenBank: CM054508.1](https://www.ncbi.nlm.nih.gov/nuccore/CM054508.1)\n",
    "  * Chimpanzee\n",
    "    * Scientific name: Pan troglodytes\n",
    "    * [NCBI Reference Sequence: NC_001643.1](https://www.ncbi.nlm.nih.gov/nuccore/NC_001643.1)\n",
    "  * Orangutan\n",
    "    * Scientific name: Pongo\n",
    "    * [NCBI Reference Sequence: NC_002083.1](https://www.ncbi.nlm.nih.gov/nuccore/NC_002083.1)\n",
    "* Ferungulates\n",
    "  * Cat\n",
    "    * Scientific name: Felis catus\n",
    "    * [NCBI Reference Sequence: NC_001700.1](https://www.ncbi.nlm.nih.gov/nuccore/NC_001700.1)\n",
    "  * Harbor seal\n",
    "    * Scientific name: Phoca vitulina\n",
    "    * [NCBI Reference Sequence: NC_001325.1](https://www.ncbi.nlm.nih.gov/nuccore/5834857)\n",
    "  * Gray seal\n",
    "    * Scientific name: Halichoerus grypus\n",
    "    * [NCBI Reference Sequence: NC_001602.1](https://www.ncbi.nlm.nih.gov/nuccore/NC_001602.1)\n",
    "  * White rhinoceros\n",
    "    * Scientific name: Ceratotherium simum\n",
    "    * [NCBI Reference Sequence: NC_001808.1](https://www.ncbi.nlm.nih.gov/nuccore/NC_001808.1)\n",
    "  * Horse\n",
    "    * Scientific name: Equus caballus\n",
    "    * [NCBI Reference Sequence: NC_001640.1](https://www.ncbi.nlm.nih.gov/nuccore/NC_001640.1)\n",
    "  * Finback whale\n",
    "    * Scientific name: Balaenoptera physalus\n",
    "    * [NCBI Reference Sequence: NC_001321.1](https://www.ncbi.nlm.nih.gov/nuccore/NC_001321.1)\n",
    "  * Blue whale\n",
    "    * Scientific name: Balaenoptera musculus\n",
    "    * [NCBI Reference Sequence: NC_001601.1](https://www.ncbi.nlm.nih.gov/nuccore/NC_001601.1)\n",
    "  * Cow\n",
    "    * Scientific name: Bos taurus\n",
    "    * [GenBank: OK135155.1](https://www.ncbi.nlm.nih.gov/nuccore/OK135155.1)\n",
    "* Rodents\n",
    "  * Rat\n",
    "    * Scientific name: Rattus\n",
    "    * [NCBI Reference Sequence: NC_012374.1](https://www.ncbi.nlm.nih.gov/nuccore/NC_012374.1)\n",
    "  * House mouse\n",
    "    * Scientific name: Mus musculus\n",
    "    * [NCBI Reference Sequence: NC_010339.1](https://www.ncbi.nlm.nih.gov/nuccore/NC_010339.1)\n",
    "* Marsupials\n",
    "  * Wallaroo\n",
    "    * Scientific name: Macropus robustus\n",
    "    * [NCBI Reference Sequence: NC_001794.1](https://www.ncbi.nlm.nih.gov/nuccore/NC_001794.1)\n",
    "  * Opossum\n",
    "    * Scientific name: Didelphidae (Didelphis virginiana)\n",
    "    * [NCBI Reference Sequence: NC_001610.1](https://www.ncbi.nlm.nih.gov/nuccore/NC_001610.1)\n",
    "* Galliformes\n",
    "  * Chicken\n",
    "    * Scientific name: Gallus gallus\n",
    "    * [NCBI Reference Sequence: OM864526.1](https://www.ncbi.nlm.nih.gov/nuccore/OM864526.1)\n",
    "\n",
    "    \n",
    "Search String:\n",
    "```\n",
    "((mitochondrion[Title]) AND complete[Title]) AND Hylobatidae[Organism] \n",
    "```"
   ]
  },
  {
   "cell_type": "markdown",
   "id": "dad2ffda-f6ba-457f-bead-799d604e56ec",
   "metadata": {},
   "source": [
    "### Data Gathering: Download FASTA file for each identified mammal"
   ]
  },
  {
   "cell_type": "code",
   "execution_count": null,
   "id": "5820d9c9-7a6f-40ef-88e2-5565629fdf69",
   "metadata": {},
   "outputs": [
    {
     "name": "stdout",
     "output_type": "stream",
     "text": [
      "total 5120\n",
      "-rwxrwxrwx  1 joelclim  staff   16896 Apr 30 08:15 \u001b[31mCM054508.1.fna\u001b[m\u001b[m\n",
      "-rwxrwxrwx  1 joelclim  staff   16700 Apr 30 08:15 \u001b[31mNC_001321.1.fna\u001b[m\u001b[m\n",
      "-rwxrwxrwx  1 joelclim  staff   17127 Apr 30 08:15 \u001b[31mNC_001325.1.fna\u001b[m\u001b[m\n",
      "-rwxrwxrwx  1 joelclim  staff   16704 Apr 30 08:15 \u001b[31mNC_001601.1.fna\u001b[m\u001b[m\n",
      "-rwxrwxrwx  1 joelclim  staff   17101 Apr 30 08:15 \u001b[31mNC_001602.1.fna\u001b[m\u001b[m\n",
      "-rwxrwxrwx  1 joelclim  staff   17395 Apr 30 08:15 \u001b[31mNC_001610.1.fna\u001b[m\u001b[m\n",
      "-rwxrwxrwx  1 joelclim  staff   16958 Apr 30 08:15 \u001b[31mNC_001640.1.fna\u001b[m\u001b[m\n",
      "-rwxrwxrwx  1 joelclim  staff   16852 Apr 30 08:15 \u001b[31mNC_001643.1.fna\u001b[m\u001b[m\n",
      "-rwxrwxrwx  1 joelclim  staff   16659 Apr 30 08:15 \u001b[31mNC_001645.1.fna\u001b[m\u001b[m\n",
      "-rwxrwxrwx  1 joelclim  staff   17309 Apr 30 08:15 \u001b[31mNC_001700.1.fna\u001b[m\u001b[m\n",
      "-rwxrwxrwx  1 joelclim  staff   17201 Apr 30 08:15 \u001b[31mNC_001794.1.fna\u001b[m\u001b[m\n",
      "-rwxrwxrwx  1 joelclim  staff   17138 Apr 30 08:15 \u001b[31mNC_001808.1.fna\u001b[m\u001b[m\n",
      "-rwxrwxrwx  1 joelclim  staff   16793 Apr 30 08:15 \u001b[31mNC_002083.1.fna\u001b[m\u001b[m\n",
      "-rwxrwxrwx  1 joelclim  staff   16600 Apr 30 08:15 \u001b[31mNC_010339.1.fna\u001b[m\u001b[m\n",
      "-rwxrwxrwx  1 joelclim  staff   16597 Apr 30 08:15 \u001b[31mNC_012374.1.fna\u001b[m\u001b[m\n",
      "-rwxrwxrwx  1 joelclim  staff   16628 Apr 30 08:15 \u001b[31mOK135155.1.fna\u001b[m\u001b[m\n",
      "-rwxrwxrwx  1 joelclim  staff   16770 Apr 30 08:15 \u001b[31mOM287160.1.fna\u001b[m\u001b[m\n",
      "-rwxrwxrwx  1 joelclim  staff   17082 Apr 30 08:15 \u001b[31mOM864526.1.fna\u001b[m\u001b[m\n",
      "-rwxrwxrwx  1 joelclim  staff   16877 Apr 30 08:15 \u001b[31mOP605624.1.fna\u001b[m\u001b[m\n",
      "drwxrwxrwx  1 joelclim  staff  131072 Apr 30 08:16 \u001b[30m\u001b[43mcombined\u001b[m\u001b[m\n"
     ]
    }
   ],
   "source": [
    "data_dir = './data/genomes'\n",
    "!ls -l {data_dir}"
   ]
  },
  {
   "cell_type": "code",
   "execution_count": null,
   "id": "56e3a012-276e-4c15-a60c-80f523edf35d",
   "metadata": {},
   "outputs": [
    {
     "name": "stdout",
     "output_type": "stream",
     "text": [
      "      19\n"
     ]
    }
   ],
   "source": [
    "!ls -l {data_dir}/*.fna | wc -l"
   ]
  },
  {
   "cell_type": "code",
   "execution_count": 6,
   "id": "dcfde745-c8c6-4476-965b-9f232239c1ec",
   "metadata": {},
   "outputs": [
    {
     "name": "stdout",
     "output_type": "stream",
     "text": [
      "CM054508.1\n",
      "NC_001321.1\n",
      "NC_001325.1\n",
      "NC_001601.1\n",
      "NC_001602.1\n",
      "NC_001610.1\n",
      "NC_001640.1\n",
      "NC_001643.1\n",
      "NC_001645.1\n",
      "NC_001700.1\n",
      "NC_001794.1\n",
      "NC_001808.1\n",
      "NC_002083.1\n",
      "NC_010339.1\n",
      "NC_012374.1\n",
      "OK135155.1\n",
      "OM287160.1\n",
      "OM864526.1\n",
      "OP605624.1\n"
     ]
    }
   ],
   "source": [
    "!ls -l {dataDir}/*.fna | cut -d'/' -f4 | cut -d'.' -f1-2"
   ]
  },
  {
   "cell_type": "code",
   "execution_count": 7,
   "id": "c6665cb4-c2f4-4bdc-b390-a277951b4fe7",
   "metadata": {},
   "outputs": [],
   "source": [
    "accessions = [\n",
    "    'CM054508.1',      # Pan paniscus (Pygmy chimpanzee)\n",
    "    'NC_001321.1',     # Balaenoptera physalus (Finback whale)\n",
    "    'NC_001325.1',     # Phoca vitulina (Harbor seal)\n",
    "    'NC_001601.1',     # Balaenoptera musculus (Blue whale),\n",
    "    'NC_001602.1',     # Halichoerus grypus (Gray seal)\n",
    "    'NC_001610.1',     # Didelphis virginiana (Opossum)\n",
    "    'NC_001640.1',     # Equus caballus (Horse)\n",
    "    'NC_001643.1',     # Pan troglodytes (Chimpanzee)\n",
    "    'NC_001645.1',     # Gorilla (Gorilla)\n",
    "    'NC_001700.1',     # Felis catus (Cat)\n",
    "    'NC_001794.1',     # Macropus robustus (Wallaroo)\n",
    "    'NC_001808.1',     # Ceratotherium simum (White rhinoceros)\n",
    "    'NC_002083.1',     # Pongo abelii (Orangutan)\n",
    "    'NC_010339.1',     # Mus musculus musculus (House mouse)\n",
    "    'NC_012374.1',     # Rattus rattus (Rat)\n",
    "    'OK135155.1',      # Bos taurus (Cow)\n",
    "    'OM287160.1',      # Nomascus siki (Hylobatidae/Gibbon)\n",
    "    'OM864526.1',      # Gallus gallus (Chicken)\n",
    "    'OP605624.1'       # Homo sapiens (Human)\n",
    "]\n",
    "\n",
    "count = len(accessions)"
   ]
  },
  {
   "cell_type": "markdown",
   "id": "983a80df-eca1-4563-9657-3be73f5bd4f3",
   "metadata": {
    "tags": []
   },
   "source": [
    "### Data Preparation: Create combined FASTA files"
   ]
  },
  {
   "cell_type": "code",
   "execution_count": 8,
   "id": "041a8832-1a3e-4197-986d-d7547993a825",
   "metadata": {},
   "outputs": [],
   "source": [
    "combined_dir = f'{data_dir}/combined'\n",
    "overwrite = False"
   ]
  },
  {
   "cell_type": "code",
   "execution_count": 9,
   "id": "bad76b08-5c0f-4208-be8d-2a6669326de8",
   "metadata": {},
   "outputs": [],
   "source": [
    "import os\n",
    "\n",
    "def combine_fasta_pairs(overwrite=overwrite):\n",
    "    if overwrite or not os.path.exists(combined_dir):\n",
    "        !rm -Rf {combined_dir}\n",
    "        !mkdir -p {combined_dir}\n",
    "\n",
    "        for i in range(count):\n",
    "            fastaA = f'{data_dir}/{accessions[i]}.fna'\n",
    "            for j in range(i+1, count):\n",
    "                fastaB = f'{data_dir}/{accessions[j]}.fna'\n",
    "                combined = f'{combined_dir}/{accessions[i]}+{accessions[j]}.fna'\n",
    "\n",
    "                print(f'Combining {accessions[i]} and {accessions[j]}')\n",
    "                !cat {fastaA} >> {combined}\n",
    "                !cat {fastaB} >> {combined}"
   ]
  },
  {
   "cell_type": "code",
   "execution_count": 10,
   "id": "8a4c0207-9d4c-4ada-b434-467518373e4c",
   "metadata": {},
   "outputs": [],
   "source": [
    "def combine_all_fasta(overwrite=overwrite):\n",
    "    combined_all_file = f'{combined_dir}/mammals.fna'\n",
    "    if overwrite or not os.path.exists(combined_all_file):\n",
    "        for i in range(count):\n",
    "            fasta = f'{data_dir}/{accessions[i]}.fna'\n",
    "\n",
    "            print(f'Combining {accessions[i]} to mammals.fna')\n",
    "            !cat {fasta} >> {combined_all_file}"
   ]
  },
  {
   "cell_type": "code",
   "execution_count": 11,
   "id": "991d52d9-74b1-4c52-a083-568eb40b9333",
   "metadata": {},
   "outputs": [],
   "source": [
    "combine_fasta_pairs(overwrite)\n",
    "combine_all_fasta(overwrite)"
   ]
  },
  {
   "cell_type": "code",
   "execution_count": null,
   "id": "5d05db1d-c9be-4570-8804-bd6bc121e72e",
   "metadata": {},
   "outputs": [],
   "source": []
  }
 ],
 "metadata": {
  "kernelspec": {
   "display_name": "Python 3 (ipykernel)",
   "language": "python",
   "name": "python3"
  },
  "language_info": {
   "codemirror_mode": {
    "name": "ipython",
    "version": 3
   },
   "file_extension": ".py",
   "mimetype": "text/x-python",
   "name": "python",
   "nbconvert_exporter": "python",
   "pygments_lexer": "ipython3",
   "version": "3.9.16"
  }
 },
 "nbformat": 4,
 "nbformat_minor": 5
}
