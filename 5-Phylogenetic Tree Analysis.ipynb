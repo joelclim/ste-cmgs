{
 "cells": [
  {
   "cell_type": "markdown",
   "id": "9358f5ac-a7a3-477a-ab7f-df079d6cf12b",
   "metadata": {},
   "source": [
    "# Phylogenetic Tree Analysis"
   ]
  },
  {
   "cell_type": "code",
   "execution_count": 1,
   "id": "931b306d-253e-4e91-b2aa-4124e0cc9d4c",
   "metadata": {},
   "outputs": [],
   "source": [
    "combine_tree = './trees/combine.ph'"
   ]
  },
  {
   "cell_type": "code",
   "execution_count": 5,
   "id": "cc915bc0-ae54-4771-bd47-2eff340b3b58",
   "metadata": {},
   "outputs": [
    {
     "name": "stdout",
     "output_type": "stream",
     "text": [
      "\n",
      "###########################################\n",
      "#                                         #\n",
      "#      TOPD-FMTS version 4.6              #\n",
      "#      (August 2012)                      #\n",
      "#                                         #\n",
      "#      Author: Pere Puigbo, PhD           #\n",
      "#      http://genomes.urv.cat/topd        #\n",
      "#      http://ppuigbo.me/programs/topd    #\n",
      "#                                         #\n",
      "###########################################\n",
      "\n",
      "\n",
      "\n",
      "####################################################################################################################\n",
      "\n",
      "Parameters to run TOPD/fMtS:\n",
      "\n",
      "\t$/topd_v* -f [file] -m [nodal/split/i/triplets/all] -r [yes/no] -n [1-1000] -s [10-10000/all/relative] -c [single/multiple/reference] -p [yes/no] -help\n",
      "\n",
      "\tINPUT FILE NAME\t\t\t-f\t<file_name>\n",
      "\tOUTPUT FILE NAME\t\t\t-out\t<file_name>\n",
      "\tMETHOD\t\t\t\t-m\t<bsd/nodal/split/quartets/triplets/disagree/all>\tdefault: split\n",
      "\tNUMBER OF TRIPLETS&QUARTETS\t-u\t<all/random/relative>\tdefault: all\n",
      "\tMAXIMUM LEVEL IN THE DISAGREE METHOD -l <1/2/3/4>\tdefault: 1\n",
      "\tRANDOM ANALYSIS\t\t\t-r\t<random/guided/no>\t\t\tdefault: random\n",
      "\tNUMBER OF RANDOM SEQUENCES\t-n\t<1-1000>\t\t\t\tdefault: 100\n",
      "\tNUMBER OF fMtS SEQUENCES\t-s\t<10-10000/all/relative>\t\t\tdefault: relative\n",
      "\tTHRESHOLD BSD METHOD\t\t-th\t<50-100/500-1000/no>\t\t\t\tdefault: no\n",
      "\tMAXIMUM BOOTSTRAP BSD METHOD\t-mb\t<100/1000>\t\t\t\tdefault: 100\n",
      "\tCOMPARISONS\t\t\t-c\t<single/multiple/reference>\t\tdefault: single\n",
      "\tPRINT PREVIOUS RESULTS\t\t-p\t<yes/no>\t\t\t\tdefault: yes\n",
      "\t-------------------------------------------------------------------------------------------------------------------\n",
      "\tGET SPECIES FROM TREES\t\t-species\t<file_name>\n",
      "\tPRUNE TREES\t\t\t-prune\t\t<file_trees>\t<file_species_to_prunne>\n",
      "\tFMTS TREES\t\t\t-fmts\t\t<file_trees>\t<random/all/relative>\tdefault: relative\n",
      "\tGET QUARTETS\t\t\t-quartets\t<file_trees>\n",
      "\tGET TRIPLETS\t\t\t-triplets\t<file_trees>\n",
      "\tDUPLIDIST\t\t\t-dd\t\t<file_trees>\n",
      "\tSPLITS\t\t\t\t-splits\t\t<file_trees>\n",
      "\tSEPARATION SCORE B/A\t\t-ss\t\t<file_trees> <file_taxonomy>\n",
      "\tBOOTSPLITS\t\t\t-bsplits\t<file_trees>\t<threshold optional>\tdefault threshold: no\n",
      "\tMQUARTETS\t\t\t-mquartets\t<file_trees>\t<a/100/1000>\n",
      "\tQUICK QUARTETS\t\t\t-qq\t\t<file_trees>\t<number_quartets>\tdefault: 100\n",
      "\n",
      "####################################################################################################################\n",
      "\n"
     ]
    }
   ],
   "source": [
    "!perl ./tools/topd_v4.6.pl"
   ]
  },
  {
   "cell_type": "code",
   "execution_count": 12,
   "id": "6e1d3244-8871-4e69-93fc-ab75996f3891",
   "metadata": {},
   "outputs": [
    {
     "name": "stdout",
     "output_type": "stream",
     "text": [
      "\n",
      "###########################################\n",
      "#                                         #\n",
      "#      TOPD-FMTS version 4.6              #\n",
      "#      (August 2012)                      #\n",
      "#                                         #\n",
      "#      Author: Pere Puigbo, PhD           #\n",
      "#      http://genomes.urv.cat/topd        #\n",
      "#      http://ppuigbo.me/programs/topd    #\n",
      "#                                         #\n",
      "###########################################\n",
      "\n",
      "\n",
      "Reading parameters ...\n",
      "\n",
      "-f ./trees/combine.ph .......................................... ok\n",
      "-m split .......................................... ok\n",
      "-l 1 .......................................... default\n",
      "-th no .......................................... default\n",
      "-th 100 .......................................... default\n",
      "-u all .......................................... default\n",
      "-r random .......................................... ok\n",
      "-n 100 .......................................... ok\n",
      "-c single .......................................... default\n",
      "-s relative .......................................... default\n",
      "-p y .......................................... default\n",
      "\n",
      "################################################ INPUT ##############################################\n",
      "\n",
      "* baseline: (Pygmychimpanzee,Chimpanzee,(Human,(Gorilla,(Orangutan,(Gibbon,((((Horse,Whiterhinoceros),(Cat,(Harborseal,Grayseal))),(Cow,(Finbackwhale,Bluewhale))),((Housemouse,Rat),(Chicken,(Opossum,Wallaroo)))))))));\n",
      "\n",
      "* Tree2: bzip3\n",
      "\n",
      "* Tree3: genozip\n",
      "\n",
      "###################################### topd baseline - Tree2 #########################################\n",
      "\n",
      "* TAXA IN COMMON: \n",
      "* Percentage of taxa in common:    0.0 % \n",
      "\n",
      "\n",
      "* Nodal Distance (Pruned/Unpruned): 0.000000 / 0.000000 \n",
      "\n",
      "* Nodal Distance (Pruned/Unpruned): 0.000000 / 0.000000 \n",
      "\n",
      "* Split Distance [differents/possibles]: 0.000000 [ 0 / 0 ]\n",
      "\n",
      "* Disagreement [ taxa disagree / all taxa ]: [ 0 / 0 ], New Split Distance: 0, Taxa disagree: (  )\n",
      "* Quartets: 0, s: 0, d: 0, r1: 0, r2: 0, u: 0, DC: 0.000000, EA: 0.000000, SJA: 0.000000, SSJA: 0.000000, SD: 0.000000\n",
      "\n",
      "* Triplets: 0, s: 0, d: 0, r1: 0, r2: 0, u: 0, DC: 0.000000, EA: 0.000000, SJA: 0.000000, SSJA: 0.000000, SD: 0.000000\n",
      "\n",
      "The overlap in the data between baseline and Tree2 is too separate. (./trees/combine.ph) \n",
      "* Split Distance [differents/possibles]: 0 [ 0 / 0 ]\n",
      "* Split Distance random [differents/possibles]: 0 [ 0 / 0 ]\n",
      "\n",
      "Thanks for using TOPD-fMtS .................................. Bye.\n",
      "\n"
     ]
    }
   ],
   "source": [
    "!perl ./tools/topd_v4.6.pl -f {combine_tree} -r random -n 100 -m split"
   ]
  },
  {
   "cell_type": "markdown",
   "id": "3a994b3a-4543-4080-9338-1f5473c657ab",
   "metadata": {},
   "source": [
    "---"
   ]
  },
  {
   "cell_type": "code",
   "execution_count": 97,
   "id": "bd92bf99-5baa-469e-aed3-d03bf14eb558",
   "metadata": {},
   "outputs": [],
   "source": [
    "from dendropy import Tree, TaxonNamespace\n",
    "from dendropy.calculate import treecompare\n",
    "\n",
    "def disagree(newick_file1, newick_file2):\n",
    "    tns = TaxonNamespace()\n",
    "    \n",
    "    tree1 = Tree.get(path=newick_file1, schema=\"newick\", taxon_namespace=tns)\n",
    "    tree2 = Tree.get(path=newick_file2, schema=\"newick\", taxon_namespace=tns)\n",
    "\n",
    "    tree1.encode_bipartitions()\n",
    "    tree2.encode_bipartitions()\n",
    "\n",
    "    \n",
    "    symmetric_difference = treecompare.symmetric_difference(tree1, tree2)\n",
    "    false_positives_and_negatives = treecompare.false_positives_and_negatives(tree1, tree2)\n",
    "    \n",
    "    return {\n",
    "        \"symmetric_difference\" : symmetric_difference,\n",
    "        \"false_positives_and_negatives\": false_positives_and_negatives\n",
    "    }"
   ]
  },
  {
   "cell_type": "code",
   "execution_count": 99,
   "id": "afb4864d-0d64-4127-a20f-a38fb02d3624",
   "metadata": {},
   "outputs": [],
   "source": [
    "from dendropy import Tree, TaxonNamespace\n",
    "from dendropy.calculate import treecompare\n",
    "\n",
    "def unweighted_commpare(newick_file1, newick_file2):\n",
    "    tns = TaxonNamespace()\n",
    "    \n",
    "    tree1 = Tree.get(path=newick_file1, schema=\"newick\", taxon_namespace=tns)\n",
    "    tree2 = Tree.get(path=newick_file2, schema=\"newick\", taxon_namespace=tns)\n",
    "\n",
    "    tree1.encode_bipartitions()\n",
    "    tree2.encode_bipartitions()\n",
    "\n",
    "    symmetric_difference = treecompare.symmetric_difference(tree1, tree2)\n",
    "    false_positives_and_negatives = treecompare.false_positives_and_negatives(tree1, tree2)\n",
    "    \n",
    "    disagree_count = 0\n",
    "\n",
    "    for node1, node2 in zip(tree1.postorder_internal_node_iter(), tree2.postorder_internal_node_iter()):\n",
    "        if node1.split_bitmask != node2.split_bitmask:\n",
    "            disagree_count += 1\n",
    "\n",
    "    return {\n",
    "        \"symmetric_difference\" : symmetric_difference,\n",
    "        \"false_positives_and_negatives\": false_positives_and_negatives,\n",
    "        \"disagree_count\": disagree_count\n",
    "    }"
   ]
  },
  {
   "cell_type": "code",
   "execution_count": 22,
   "id": "7e070506-b99f-4ef2-83a7-69ff6dbfcece",
   "metadata": {},
   "outputs": [],
   "source": [
    "from dendropy import Tree, TaxonNamespace\n",
    "from dendropy.calculate import treecompare\n",
    "\n",
    "def weighted_commpare(newick_file1, newick_file2):\n",
    "    tns = TaxonNamespace()\n",
    "    \n",
    "    tree1 = Tree.get(path=newick_file1, schema=\"newick\", taxon_namespace=tns)\n",
    "    tree2 = Tree.get(path=newick_file2, schema=\"newick\", taxon_namespace=tns)\n",
    "\n",
    "    tree1.encode_bipartitions()\n",
    "    tree2.encode_bipartitions()\n",
    "\n",
    "    euclidean_distance = treecompare.euclidean_distance(tree1, tree2)\n",
    "    weighted_robinson_foulds_distance = treecompare.weighted_robinson_foulds_distance(tree1, tree2)\n",
    "    return {\n",
    "        \"euclidean_distance\": euclidean_distance,\n",
    "        \"weighted_robinson_foulds_distance\" : weighted_robinson_foulds_distance\n",
    "    }"
   ]
  },
  {
   "cell_type": "code",
   "execution_count": 23,
   "id": "e4450a96-49e9-4d9c-b67a-09b8cb576964",
   "metadata": {},
   "outputs": [],
   "source": [
    "baseline_tree = './trees/baseline_consensus.ph'\n",
    "fastgzip_tree = './trees/fastgzip_consensus.ph'\n",
    "bzip3_tree = './trees/bzip3_consensus.ph'\n",
    "genozip_tree = './trees/genozip_consensus.ph'"
   ]
  },
  {
   "cell_type": "code",
   "execution_count": 100,
   "id": "9f29ee5c-320d-43bf-bb94-83804bd19365",
   "metadata": {},
   "outputs": [
    {
     "data": {
      "text/plain": [
       "{'symmetric_difference': 0,\n",
       " 'false_positives_and_negatives': (0, 0),\n",
       " 'disagree_count': 0}"
      ]
     },
     "execution_count": 100,
     "metadata": {},
     "output_type": "execute_result"
    }
   ],
   "source": [
    "unweighted_commpare(baseline_tree, baseline_tree)"
   ]
  },
  {
   "cell_type": "code",
   "execution_count": 101,
   "id": "ddec8e21-0cd8-4b1d-8fc7-3aecc45834cb",
   "metadata": {},
   "outputs": [
    {
     "data": {
      "text/plain": [
       "{'symmetric_difference': 33,\n",
       " 'false_positives_and_negatives': (17, 16),\n",
       " 'disagree_count': 17}"
      ]
     },
     "execution_count": 101,
     "metadata": {},
     "output_type": "execute_result"
    }
   ],
   "source": [
    "unweighted_commpare(baseline_tree, fastgzip_tree)"
   ]
  },
  {
   "cell_type": "code",
   "execution_count": 102,
   "id": "fd004548-dcf6-4a0c-b51b-8b8cb5f9fd1a",
   "metadata": {},
   "outputs": [
    {
     "data": {
      "text/plain": [
       "{'symmetric_difference': 25,\n",
       " 'false_positives_and_negatives': (13, 12),\n",
       " 'disagree_count': 17}"
      ]
     },
     "execution_count": 102,
     "metadata": {},
     "output_type": "execute_result"
    }
   ],
   "source": [
    "unweighted_commpare(baseline_tree, bzip3_tree)"
   ]
  },
  {
   "cell_type": "code",
   "execution_count": 103,
   "id": "4a0bd309-a7ef-442c-b72e-c80b5872a303",
   "metadata": {},
   "outputs": [
    {
     "data": {
      "text/plain": [
       "{'symmetric_difference': 23,\n",
       " 'false_positives_and_negatives': (12, 11),\n",
       " 'disagree_count': 17}"
      ]
     },
     "execution_count": 103,
     "metadata": {},
     "output_type": "execute_result"
    }
   ],
   "source": [
    "unweighted_commpare(baseline_tree, genozip_tree)"
   ]
  },
  {
   "cell_type": "code",
   "execution_count": 74,
   "id": "1b633841-cbd5-4b56-a2c1-9c32908c986f",
   "metadata": {},
   "outputs": [],
   "source": [
    "from dendropy import Tree\n",
    "from dendropy.calculate.treemeasure import B1, N_bar, patristic_distance\n",
    "\n",
    "def unary_tree_statistics(newick_file):\n",
    "    tree = Tree.get(path=newick_file, schema=\"newick\")\n",
    "    pdm = tree.phylogenetic_distance_matrix()\n",
    "    \n",
    "    return {\n",
    "        \"B1\": B1(tree),\n",
    "        \"N_bar\": N_bar(tree),\n",
    "        \"pdm\": pdm.mean_pairwise_distance()\n",
    "    }"
   ]
  },
  {
   "cell_type": "code",
   "execution_count": 75,
   "id": "0f446a72-6b97-4e06-952d-6848f466e8ce",
   "metadata": {},
   "outputs": [
    {
     "data": {
      "text/plain": [
       "{'B1': 8.162301587301588, 'N_bar': 6.894736842105263, 'pdm': 0.0}"
      ]
     },
     "execution_count": 75,
     "metadata": {},
     "output_type": "execute_result"
    }
   ],
   "source": [
    "unary_tree_statistics(baseline_tree)"
   ]
  },
  {
   "cell_type": "code",
   "execution_count": 76,
   "id": "c5d46048-4333-44f2-8008-2ef96f0e39ce",
   "metadata": {},
   "outputs": [
    {
     "data": {
      "text/plain": [
       "{'B1': 10.176190476190476, 'N_bar': 5.7368421052631575, 'pdm': 0.0}"
      ]
     },
     "execution_count": 76,
     "metadata": {},
     "output_type": "execute_result"
    }
   ],
   "source": [
    "unary_tree_statistics(fastgzip_tree)"
   ]
  },
  {
   "cell_type": "code",
   "execution_count": 77,
   "id": "0dc4158d-43d7-4591-a0cb-47ccdd9c503a",
   "metadata": {},
   "outputs": [
    {
     "data": {
      "text/plain": [
       "{'B1': 8.801190476190474, 'N_bar': 5.052631578947368, 'pdm': 0.0}"
      ]
     },
     "execution_count": 77,
     "metadata": {},
     "output_type": "execute_result"
    }
   ],
   "source": [
    "unary_tree_statistics(bzip3_tree)"
   ]
  },
  {
   "cell_type": "code",
   "execution_count": 78,
   "id": "f5d2e0b1-62e5-4096-8be2-617a07b46e08",
   "metadata": {},
   "outputs": [
    {
     "data": {
      "text/plain": [
       "{'B1': 9.001190476190475, 'N_bar': 6.0, 'pdm': 0.0}"
      ]
     },
     "execution_count": 78,
     "metadata": {},
     "output_type": "execute_result"
    }
   ],
   "source": [
    "unary_tree_statistics(genozip_tree)"
   ]
  },
  {
   "cell_type": "markdown",
   "id": "6298a1f2-9f81-4a03-a78c-49a64b849891",
   "metadata": {},
   "source": [
    "---"
   ]
  },
  {
   "cell_type": "code",
   "execution_count": 90,
   "id": "5bcf7e29-a08e-4d75-9be1-a13863764ba0",
   "metadata": {},
   "outputs": [],
   "source": [
    "import dendropy\n",
    "\n",
    "def boot_split_distance(newick_file1, newick_file2):\n",
    "    tns = TaxonNamespace()\n",
    "    \n",
    "    tree1 = Tree.get(path=newick_file1, schema=\"newick\", taxon_namespace=tns)\n",
    "    tree2 = Tree.get(path=newick_file2, schema=\"newick\", taxon_namespace=tns)\n",
    "\n",
    "    # Set the number of bootstrap replicates\n",
    "    num_replicates = 100\n",
    "\n",
    "    # Initialize dictionaries to store the bipartitions and their frequencies in each tree\n",
    "    bs1_counts = {}\n",
    "    bs2_counts = {}\n",
    "\n",
    "    # Perform bootstrap resampling on both trees and count bipartition frequencies\n",
    "    for i in range(num_replicates):\n",
    "        # Clone the original trees\n",
    "        bs_tree1 = tree1.clone(depth=1)\n",
    "        bs_tree2 = tree2.clone(depth=1)\n",
    "\n",
    "        # Randomly resolve any unresolved nodes\n",
    "        bs_tree1.resolve_polytomies()\n",
    "        bs_tree2.resolve_polytomies()\n",
    "\n",
    "        # Encode the bipartitions of each bootstrap tree and count their frequencies\n",
    "        bs_tree1.encode_bipartitions()\n",
    "        bs_tree2.encode_bipartitions()\n",
    "\n",
    "        for bipartition in bs_tree1.bipartition_encoding:\n",
    "            bs1_counts[bipartition] = bs1_counts.get(bipartition, 0) + 1\n",
    "\n",
    "        for bipartition in bs_tree2.bipartition_encoding:\n",
    "            bs2_counts[bipartition] = bs2_counts.get(bipartition, 0) + 1\n",
    "\n",
    "    # Calculate the number of shared and non-shared bipartitions\n",
    "    shared_bipartitions = 0\n",
    "    nonshared_bipartitions = 0\n",
    "    for bipartition, freq1 in bs1_counts.items():\n",
    "        freq2 = bs2_counts.get(bipartition, 0)\n",
    "        if freq2 > 0:\n",
    "            shared_bipartitions += min(freq1, freq2)\n",
    "        nonshared_bipartitions += abs(freq1 - freq2)\n",
    "\n",
    "    # Calculate the Boot-Split distance\n",
    "    boot_split_distance = 1 - (shared_bipartitions / (shared_bipartitions + nonshared_bipartitions))\n",
    "\n",
    "    # Print the result\n",
    "    print('Boot-Split distance:', boot_split_distance)"
   ]
  },
  {
   "cell_type": "code",
   "execution_count": 91,
   "id": "342220e8-c783-4db2-ac08-e3fce314dc13",
   "metadata": {},
   "outputs": [
    {
     "name": "stdout",
     "output_type": "stream",
     "text": [
      "Boot-Split distance: 0.0\n"
     ]
    }
   ],
   "source": [
    "boot_split_distance(baseline_tree, baseline_tree)"
   ]
  },
  {
   "cell_type": "code",
   "execution_count": 92,
   "id": "a5a9e632-4f69-44a6-9be6-612ecdfc61f8",
   "metadata": {},
   "outputs": [
    {
     "name": "stdout",
     "output_type": "stream",
     "text": [
      "Boot-Split distance: 0.4444444444444444\n"
     ]
    }
   ],
   "source": [
    "boot_split_distance(baseline_tree, fastgzip_tree)"
   ]
  },
  {
   "cell_type": "code",
   "execution_count": 93,
   "id": "4ceae544-e491-48f7-953f-0abb58149bfe",
   "metadata": {},
   "outputs": [
    {
     "name": "stdout",
     "output_type": "stream",
     "text": [
      "Boot-Split distance: 0.33333333333333337\n"
     ]
    }
   ],
   "source": [
    "boot_split_distance(baseline_tree, bzip3_tree)"
   ]
  },
  {
   "cell_type": "code",
   "execution_count": 94,
   "id": "9e3f4555-cde7-438c-8336-0524e876e127",
   "metadata": {},
   "outputs": [
    {
     "name": "stdout",
     "output_type": "stream",
     "text": [
      "Boot-Split distance: 0.3055555555555556\n"
     ]
    }
   ],
   "source": [
    "boot_split_distance(baseline_tree, genozip_tree)"
   ]
  },
  {
   "cell_type": "code",
   "execution_count": null,
   "id": "a5e81527-d1d1-4bc2-ba5c-4c64d129198d",
   "metadata": {},
   "outputs": [],
   "source": []
  }
 ],
 "metadata": {
  "kernelspec": {
   "display_name": "Python 3 (ipykernel)",
   "language": "python",
   "name": "python3"
  },
  "language_info": {
   "codemirror_mode": {
    "name": "ipython",
    "version": 3
   },
   "file_extension": ".py",
   "mimetype": "text/x-python",
   "name": "python",
   "nbconvert_exporter": "python",
   "pygments_lexer": "ipython3",
   "version": "3.9.16"
  }
 },
 "nbformat": 4,
 "nbformat_minor": 5
}
