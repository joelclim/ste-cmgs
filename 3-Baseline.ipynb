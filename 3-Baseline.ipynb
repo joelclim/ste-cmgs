{
 "cells": [
  {
   "cell_type": "markdown",
   "id": "58bb8228-8928-468d-8e2d-c2a900036205",
   "metadata": {},
   "source": [
    "# Creating the Baseline"
   ]
  },
  {
   "cell_type": "markdown",
   "id": "c358338b-19d0-405b-becc-56696747e7d7",
   "metadata": {},
   "source": [
    "1. Run multiple sequence alignment on mammals.fna. Execution is documented in [clustalw.out.txt](./clustalw.out.txt).\n",
    "2. Generate NJ tree using clustalw (baseline_nj.ph).\n",
    "3. Generate UPGMA tree using clustaw (baseline_upgma.ph).\n",
    "4. Generate Maximum Likelihood tree using fasttree (baseline_ml.ph)."
   ]
  },
  {
   "cell_type": "markdown",
   "id": "91e7e96d-d7b6-4d48-93e6-b9637e2f7ac3",
   "metadata": {},
   "source": [
    "## Rename accession to common names"
   ]
  },
  {
   "cell_type": "code",
   "execution_count": 3,
   "id": "6839915a-095e-43ae-9ed6-2e4a3579b03e",
   "metadata": {},
   "outputs": [],
   "source": [
    "def accession_to_commmon_name(input_file, output_file):\n",
    "    # Read in the file\n",
    "    with open(input_file, 'r') as file :\n",
    "      data = file.read()\n",
    "\n",
    "    # Replace the target string\n",
    "    data = data.replace('CM054508.1', 'Pygmy_chimpanzee')\n",
    "    data = data.replace('NC_001321.1', 'Finback_whale')\n",
    "    data = data.replace('NC_001321.', 'Finback_whale')\n",
    "    data = data.replace('NC_001325.1', 'Harbor_seal')\n",
    "    data = data.replace('NC_001325.', 'Harbor_seal')\n",
    "    data = data.replace('NC_001601.1', 'Blue_whale')\n",
    "    data = data.replace('NC_001601.', 'Blue_whale')\n",
    "    data = data.replace('NC_001602.1', 'Gray_seal')\n",
    "    data = data.replace('NC_001602.', 'Gray_seal')\n",
    "    data = data.replace('NC_001610.1', 'Opossum')\n",
    "    data = data.replace('NC_001610.', 'Opossum')\n",
    "    data = data.replace('NC_001640.1', 'Horse')\n",
    "    data = data.replace('NC_001640.', 'Horse')\n",
    "    data = data.replace('NC_001643.1', 'Chimpanzee')\n",
    "    data = data.replace('NC_001643.', 'Chimpanzee')\n",
    "    data = data.replace('NC_001645.1', 'Gorilla')\n",
    "    data = data.replace('NC_001645.', 'Gorilla')\n",
    "    data = data.replace('NC_001700.1', 'Cat')\n",
    "    data = data.replace('NC_001700.', 'Cat')\n",
    "    data = data.replace('NC_001794.1', 'Wallaroo')\n",
    "    data = data.replace('NC_001794.', 'Wallaroo')\n",
    "    data = data.replace('NC_001808.1', 'White_rhinoceros')\n",
    "    data = data.replace('NC_001808.', 'White_rhinoceros')\n",
    "    data = data.replace('NC_002083.1', 'Orangutan')\n",
    "    data = data.replace('NC_002083.', 'Orangutan')\n",
    "    data = data.replace('NC_010339.1', 'House_mouse')\n",
    "    data = data.replace('NC_010339.', 'House_mouse')\n",
    "    data = data.replace('NC_012374.1', 'Rat')\n",
    "    data = data.replace('NC_012374.', 'Rat')\n",
    "    data = data.replace('OK135155.1', 'Cow')\n",
    "    data = data.replace('OM287160.1', 'Gibbon')\n",
    "    data = data.replace('OM864526.1', 'Chicken')\n",
    "    data = data.replace('OP605624.1', 'Human')\n",
    "\n",
    "    # Write the file out again\n",
    "    with open(output_file, 'w') as file:\n",
    "      file.write(data)"
   ]
  },
  {
   "cell_type": "code",
   "execution_count": 4,
   "id": "b97faaa3-abd9-4e5b-8b9f-0b0efd51cb16",
   "metadata": {},
   "outputs": [],
   "source": [
    "baseline_dir = './trees'\n",
    "clustal_nj_tree = f'{baseline_dir}/clustal_mammals_nj.ph'\n",
    "baseline_nj_tree   = f'{baseline_dir}/baseline_nj.ph'\n",
    "\n",
    "clustal_upgma_tree = f'{baseline_dir}/clustal_mammals_upgma.ph'\n",
    "baseline_upgma_tree   = f'{baseline_dir}/baseline_upgma.ph'\n",
    "\n",
    "fasttree_ml_tree= f'{baseline_dir}/fasttree_mammals_ml.ph'\n",
    "baseline_ml_tree= f'{baseline_dir}/baseline_ml.ph'\n",
    "\n",
    "baseline_consensus_tree = f'{baseline_dir}/baseline_consensus.ph'\n",
    "\n",
    "accession_to_commmon_name(clustal_nj_tree, baseline_nj_tree)\n",
    "accession_to_commmon_name(clustal_upgma_tree, baseline_upgma_tree)\n",
    "accession_to_commmon_name(fasttree_ml_tree, baseline_ml_tree)"
   ]
  },
  {
   "cell_type": "code",
   "execution_count": 5,
   "id": "a8fc8dfb-e9be-47bc-93cf-1ca7f02480a3",
   "metadata": {},
   "outputs": [],
   "source": [
    "from dendropy import TaxonNamespace, Tree, TreeList\n",
    "\n",
    "tree_list = TreeList([\n",
    "    Tree.get(path=baseline_nj_tree, schema=\"newick\"), \n",
    "    Tree.get(path=baseline_upgma_tree, schema=\"newick\"),\n",
    "    Tree.get(path=baseline_ml_tree, schema=\"newick\")]\n",
    ")"
   ]
  },
  {
   "cell_type": "code",
   "execution_count": 6,
   "id": "75e54c6d-cb76-4050-a938-8a943ef7b5c8",
   "metadata": {},
   "outputs": [],
   "source": [
    "# frequency threshold = 0.50\n",
    "consensus_tree = tree_list.consensus()"
   ]
  },
  {
   "cell_type": "code",
   "execution_count": 7,
   "id": "97a6554b-5f5f-43f4-97f0-bc692b9e756b",
   "metadata": {},
   "outputs": [],
   "source": [
    "consensus_tree.write(file=open(baseline_consensus_tree, 'w'), schema=\"newick\")"
   ]
  },
  {
   "cell_type": "code",
   "execution_count": null,
   "id": "d98415c0-e579-4765-9bb5-b9289563dcc4",
   "metadata": {},
   "outputs": [],
   "source": []
  }
 ],
 "metadata": {
  "kernelspec": {
   "display_name": "Python 3 (ipykernel)",
   "language": "python",
   "name": "python3"
  },
  "language_info": {
   "codemirror_mode": {
    "name": "ipython",
    "version": 3
   },
   "file_extension": ".py",
   "mimetype": "text/x-python",
   "name": "python",
   "nbconvert_exporter": "python",
   "pygments_lexer": "ipython3",
   "version": "3.9.16"
  }
 },
 "nbformat": 4,
 "nbformat_minor": 5
}
