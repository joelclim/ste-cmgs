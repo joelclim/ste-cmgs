{
 "cells": [
  {
   "cell_type": "markdown",
   "id": "6351eee2-e18f-4fcb-a4ad-467ae0919645",
   "metadata": {},
   "source": [
    "# Phylogenetic Tree Creation"
   ]
  },
  {
   "cell_type": "code",
   "execution_count": 35,
   "id": "403a396e-0389-4fc2-8941-8c6600d3cb00",
   "metadata": {},
   "outputs": [],
   "source": [
    "from Bio.Phylo.TreeConstruction import DistanceTreeConstructor\n",
    "\n",
    "def create_nj_tree(distance_matrix, rooted=True):\n",
    "    constructor = DistanceTreeConstructor()\n",
    "    nj_tree = constructor.nj(distance_matrix)\n",
    "    nj_tree.rooted = rooted\n",
    "    return njTree"
   ]
  },
  {
   "cell_type": "code",
   "execution_count": 36,
   "id": "5e7003f5-01d3-46b2-be7d-a7eb1d515df4",
   "metadata": {},
   "outputs": [],
   "source": [
    "from Bio.Phylo.TreeConstruction import DistanceTreeConstructor\n",
    "\n",
    "def create_upgma_tree(distance_matrix, rooted=True):\n",
    "    constructor = DistanceTreeConstructor()\n",
    "    upgma_tree = constructor.upgma(distance_matrix)\n",
    "    upgma_tree.rooted = rooted\n",
    "    return upgma_tree"
   ]
  },
  {
   "cell_type": "code",
   "execution_count": 65,
   "id": "1eacb2ec-2389-4017-9407-d4fc0b321436",
   "metadata": {},
   "outputs": [],
   "source": [
    "from dendropy import PhylogeneticDistanceMatrix, TaxonNamespace, Tree, TreeList\n",
    "\n",
    "def create_phylogenetic_tree(distance_matrix_csv, tree_file):\n",
    "    pdm = PhylogeneticDistanceMatrix.from_csv(\n",
    "        src=open(distance_matrix_csv),\n",
    "        delimiter=\",\")\n",
    "    \n",
    "    nj_tree = pdm.nj_tree()\n",
    "    nj_tree.reroot_at_midpoint()\n",
    "    nj_tree.write(file=open(tree_file.replace('consensus', 'nj'), 'w'), schema=\"newick\")\n",
    "    \n",
    "    upgma_tree = pdm.upgma_tree()\n",
    "    upgma_tree.reroot_at_midpoint()\n",
    "    nj_tree.write(file=open(tree_file.replace('consensus', 'upgma'), 'w'), schema=\"newick\")\n",
    "\n",
    "    tree_list = TreeList([nj_tree, upgma_tree])\n",
    "    consensus_tree = tree_list.consensus()\n",
    "    consensus_tree.write(file=open(tree_file, 'w'), schema=\"newick\")"
   ]
  },
  {
   "cell_type": "markdown",
   "id": "316ef40e-8edf-4ad4-a874-a419d55870bf",
   "metadata": {},
   "source": [
    "---"
   ]
  },
  {
   "cell_type": "markdown",
   "id": "9ebf0275-1173-4c1e-8fb7-411357a88eeb",
   "metadata": {},
   "source": [
    "## GenCompress"
   ]
  },
  {
   "cell_type": "code",
   "execution_count": 66,
   "id": "a7c6e613-375a-457d-8cd4-c96718fe72b2",
   "metadata": {},
   "outputs": [],
   "source": [
    "compress_utility = 'gencompress'\n",
    "compressed_dir = f'./data/{compress_utility}'\n",
    "distance_matrix_csv = f'{compressed_dir}/{compress_utility}_distance-matrix.csv'\n",
    "consensus_tree_file = f'./trees/{compress_utility}_consensus.ph'"
   ]
  },
  {
   "cell_type": "code",
   "execution_count": 67,
   "id": "de9f9895-dd8a-4e3a-b87e-f97114e97619",
   "metadata": {},
   "outputs": [],
   "source": [
    "create_phylogenetic_tree(distance_matrix_csv, consensus_tree_file)"
   ]
  },
  {
   "cell_type": "markdown",
   "id": "9d479614-7726-4495-a1a6-ff08d068d3f2",
   "metadata": {},
   "source": [
    "## bzip3"
   ]
  },
  {
   "cell_type": "code",
   "execution_count": 68,
   "id": "b435a95e-4c36-4290-990a-19c6a5087803",
   "metadata": {},
   "outputs": [],
   "source": [
    "compress_utility = 'bzip3'\n",
    "compressed_dir = f'./data/{compress_utility}'\n",
    "distance_matrix_csv = f'{compressed_dir}/{compress_utility}_distance-matrix.csv'\n",
    "consensus_tree_file = f'./trees/{compress_utility}_consensus.ph'"
   ]
  },
  {
   "cell_type": "code",
   "execution_count": 69,
   "id": "b4746eff-9d2e-4b20-af7a-fae8c0d85470",
   "metadata": {},
   "outputs": [],
   "source": [
    "create_phylogenetic_tree(distance_matrix_csv, consensus_tree_file)"
   ]
  },
  {
   "cell_type": "markdown",
   "id": "3106a1f1-9eff-4a62-a725-52639f472db5",
   "metadata": {},
   "source": [
    "## fastgzip: gzip -1 -n"
   ]
  },
  {
   "cell_type": "code",
   "execution_count": 70,
   "id": "2f6145ec-9091-4f73-bf02-b2fb3fa47b20",
   "metadata": {},
   "outputs": [],
   "source": [
    "compress_utility = 'fastgzip'\n",
    "compressed_dir = f'./data/{compress_utility}'\n",
    "distance_matrix_csv = f'{compressed_dir}/{compress_utility}_distance-matrix.csv'\n",
    "consensus_tree_file = f'./trees/{compress_utility}_consensus.ph'"
   ]
  },
  {
   "cell_type": "code",
   "execution_count": 71,
   "id": "4a0cd004-e21f-4cf0-b757-c108a79db55a",
   "metadata": {},
   "outputs": [],
   "source": [
    "create_phylogenetic_tree(distance_matrix_csv, consensus_tree_file)"
   ]
  },
  {
   "cell_type": "markdown",
   "id": "d2316deb-b280-478d-8fd4-9f19b8dbef7f",
   "metadata": {},
   "source": [
    "## genozip"
   ]
  },
  {
   "cell_type": "code",
   "execution_count": 72,
   "id": "0e203650-3ba4-4029-adc2-75645efe3692",
   "metadata": {},
   "outputs": [],
   "source": [
    "compress_utility = 'genozip'\n",
    "compressed_dir = f'./data/{compress_utility}'\n",
    "distance_matrix_csv = f'{compressed_dir}/{compress_utility}_distance-matrix.csv'\n",
    "consensus_tree_file = f'./trees/{compress_utility}_consensus.ph'"
   ]
  },
  {
   "cell_type": "code",
   "execution_count": 73,
   "id": "857d9919-f681-4e02-9a97-b2377633ae2e",
   "metadata": {},
   "outputs": [],
   "source": [
    "create_phylogenetic_tree(distance_matrix_csv, consensus_tree_file)"
   ]
  },
  {
   "cell_type": "markdown",
   "id": "e786bbdf-468b-4ac3-9723-25a7c999bb64",
   "metadata": {},
   "source": [
    "## fastgenozip"
   ]
  },
  {
   "cell_type": "code",
   "execution_count": 74,
   "id": "9027ac67-dee7-49e6-af96-f9be3047f08d",
   "metadata": {},
   "outputs": [],
   "source": [
    "compress_utility = 'fastgenozip'\n",
    "compressed_dir = f'./data/{compress_utility}'\n",
    "distance_matrix_csv = f'{compressed_dir}/{compress_utility}_distance-matrix.csv'\n",
    "consensus_tree_file = f'./trees/{compress_utility}_consensus.ph'"
   ]
  },
  {
   "cell_type": "code",
   "execution_count": 75,
   "id": "c025689a-c643-414c-9156-22871533d0bb",
   "metadata": {},
   "outputs": [],
   "source": [
    "create_phylogenetic_tree(distance_matrix_csv, consensus_tree_file)"
   ]
  },
  {
   "cell_type": "code",
   "execution_count": null,
   "id": "79de2777-a608-4474-9444-64ffaa5f35aa",
   "metadata": {},
   "outputs": [],
   "source": []
  }
 ],
 "metadata": {
  "kernelspec": {
   "display_name": "Python 3 (ipykernel)",
   "language": "python",
   "name": "python3"
  },
  "language_info": {
   "codemirror_mode": {
    "name": "ipython",
    "version": 3
   },
   "file_extension": ".py",
   "mimetype": "text/x-python",
   "name": "python",
   "nbconvert_exporter": "python",
   "pygments_lexer": "ipython3",
   "version": "3.9.16"
  }
 },
 "nbformat": 4,
 "nbformat_minor": 5
}
